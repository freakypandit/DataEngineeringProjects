{
 "cells": [
  {
   "cell_type": "code",
   "execution_count": 22,
   "metadata": {},
   "outputs": [],
   "source": [
    "mylist = [1,2,3,4,5,6,7]"
   ]
  },
  {
   "cell_type": "code",
   "execution_count": 2,
   "metadata": {},
   "outputs": [
    {
     "name": "stdout",
     "output_type": "stream",
     "text": [
      "Odd number: 1\n",
      "2\n",
      "Odd number: 3\n",
      "4\n",
      "Odd number: 5\n",
      "6\n",
      "Odd number: 7\n"
     ]
    }
   ],
   "source": [
    "for num in mylist:\n",
    "   if num % 2 == 0:\n",
    "      print(num)\n",
    "   else:\n",
    "      print(f'Odd number: {num}')"
   ]
  },
  {
   "cell_type": "markdown",
   "metadata": {},
   "source": [
    "#### These are examples of iterables - Any objects that can be interated."
   ]
  },
  {
   "cell_type": "code",
   "execution_count": 3,
   "metadata": {},
   "outputs": [
    {
     "name": "stdout",
     "output_type": "stream",
     "text": [
      "28\n"
     ]
    }
   ],
   "source": [
    "list_sum = 0\n",
    "\n",
    "for num in mylist:\n",
    "\n",
    "   list_sum = list_sum + num \n",
    "   # or use list_sum += num\n",
    "\n",
    "   # to get running sum - print list_sum inside indentations\n",
    "   # print(list_sum)\n",
    "\n",
    "print(list_sum)"
   ]
  },
  {
   "cell_type": "code",
   "execution_count": 6,
   "metadata": {},
   "outputs": [
    {
     "name": "stdout",
     "output_type": "stream",
     "text": [
      "Check\n",
      "Check\n",
      "Check\n",
      "Check\n",
      "Check\n",
      "Check\n",
      "Check\n",
      "Check\n",
      "Check\n",
      "Check\n",
      "Check\n"
     ]
    }
   ],
   "source": [
    "mystring = \"Hello World\" \n",
    "\n",
    "for _ in mystring:\n",
    "   print(\"Check\")"
   ]
  },
  {
   "cell_type": "code",
   "execution_count": 7,
   "metadata": {},
   "outputs": [
    {
     "name": "stdout",
     "output_type": "stream",
     "text": [
      "1\n",
      "2\n",
      "3\n"
     ]
    }
   ],
   "source": [
    "tup = (1,2,3)\n",
    "\n",
    "for item in tup:\n",
    "   print(item)"
   ]
  },
  {
   "cell_type": "code",
   "execution_count": 10,
   "metadata": {},
   "outputs": [
    {
     "name": "stdout",
     "output_type": "stream",
     "text": [
      "1 2\n",
      "3 4\n",
      "5 6\n"
     ]
    }
   ],
   "source": [
    "## Tuple Unpacking -- common pattern in python\n",
    "\n",
    "mylist = [(1,2), (3,4), (5,6)]\n",
    "\n",
    "for a, b in mylist:\n",
    "   print(a, b)"
   ]
  },
  {
   "cell_type": "code",
   "execution_count": 11,
   "metadata": {},
   "outputs": [
    {
     "name": "stdout",
     "output_type": "stream",
     "text": [
      "6\n",
      "18\n"
     ]
    }
   ],
   "source": [
    "mylist = [(1,2,3), (5,6,7)]\n",
    "\n",
    "for x, y, z in mylist:\n",
    "   print(x+y+z)"
   ]
  },
  {
   "cell_type": "code",
   "execution_count": 20,
   "metadata": {},
   "outputs": [
    {
     "name": "stdout",
     "output_type": "stream",
     "text": [
      "k 1\n",
      "k 2\n",
      "k 3\n"
     ]
    }
   ],
   "source": [
    "d = {'k1':1, 'k2':2, 'k3':3}\n",
    "\n",
    "\n",
    "# d.items() and d will work in the same way\n",
    "for key, value in d.items():\n",
    "\n",
    "   print(item, value)"
   ]
  },
  {
   "cell_type": "code",
   "execution_count": 25,
   "metadata": {},
   "outputs": [
    {
     "name": "stdout",
     "output_type": "stream",
     "text": [
      "X is not less than 5\n"
     ]
    }
   ],
   "source": [
    "x = 11\n",
    "\n",
    "while x < 5:\n",
    "   print(f'Current value of x is {x}')\n",
    "   x += 1\n",
    "else:\n",
    "   print(\"X is not less than 5\")"
   ]
  },
  {
   "cell_type": "markdown",
   "metadata": {},
   "source": [
    "###### break - break out of current closest enclosing loop\n",
    "\n",
    "###### pass - does nothing at all\n",
    "\n",
    "###### continue: goes to the top of the closest enclosing loop"
   ]
  },
  {
   "cell_type": "code",
   "execution_count": 32,
   "metadata": {},
   "outputs": [
    {
     "name": "stdout",
     "output_type": "stream",
     "text": [
      "end of script\n"
     ]
    }
   ],
   "source": [
    "x = [1,2,3]\n",
    "\n",
    "for item in x:\n",
    "   if(len(x) < 10):\n",
    "      continue\n",
    "   \n",
    "   x.append(1)\n",
    "\n",
    "   print(\"Move\")\n",
    "\n",
    "print(\"end of script\")"
   ]
  },
  {
   "cell_type": "code",
   "execution_count": 33,
   "metadata": {},
   "outputs": [
    {
     "name": "stdout",
     "output_type": "stream",
     "text": [
      "5\n",
      "6\n",
      "7\n"
     ]
    }
   ],
   "source": [
    "x = 5 \n",
    "\n",
    "while x < 10:\n",
    "   if x == 8:\n",
    "      break \n",
    "\n",
    "   print(x)\n",
    "   x +=1"
   ]
  },
  {
   "cell_type": "markdown",
   "metadata": {},
   "source": [
    "#### [Useful Operator in Python]"
   ]
  },
  {
   "cell_type": "code",
   "execution_count": null,
   "metadata": {},
   "outputs": [],
   "source": [
    "mylist = [1,2,3]\n",
    "\n",
    "## Range Keyword \n",
    "\n",
    "for num in range(10):\n",
    "   print(num)\n",
    "\n",
    "\n",
    "for num in range(0, 10):\n",
    "   print(num)\n",
    "\n",
    "for num in range(0, 10, 2):\n",
    "   print(num)\n",
    "\n",
    "\n",
    "## Generator:\n",
    "\n",
    "list(range(0,10))"
   ]
  },
  {
   "cell_type": "code",
   "execution_count": 39,
   "metadata": {},
   "outputs": [
    {
     "name": "stdout",
     "output_type": "stream",
     "text": [
      "At index 0 the letter is a\n",
      "At index 1 the letter is b\n",
      "At index 2 the letter is c\n",
      "At index 3 the letter is d\n",
      "At index 4 the letter is e\n",
      "0 a\n",
      "1 b\n",
      "2 c\n",
      "3 d\n",
      "4 e\n"
     ]
    }
   ],
   "source": [
    "index_count = 0 \n",
    "\n",
    "for letter in 'abcde':\n",
    "   print(\"At index {} the letter is {}\".format(index_count, letter))\n",
    "   index_count +=1\n",
    "\n",
    "\n",
    "## We can efficiently do this with enumerate:\n",
    "\n",
    "for idx, val in enumerate('abcde'):\n",
    "   print(idx, val)"
   ]
  },
  {
   "cell_type": "code",
   "execution_count": 42,
   "metadata": {},
   "outputs": [
    {
     "name": "stdout",
     "output_type": "stream",
     "text": [
      "(1, 'a')\n",
      "(2, 'b')\n",
      "(3, 'c')\n",
      "(4, 'd')\n"
     ]
    }
   ],
   "source": [
    "## Zip function zips together 2 lists\n",
    "\n",
    "list1 = [1,2,3,4]\n",
    "list2 = ['a', 'b', 'c', 'd']\n",
    "\n",
    "zip(list1, list2) ## creates a generator \n",
    "\n",
    "for items in zip(list1, list2):\n",
    "   print(items) # makes tuples \n",
    "\n",
    "\n",
    "## Only zips till the size of small list "
   ]
  },
  {
   "cell_type": "markdown",
   "metadata": {},
   "source": [
    "#### List Comprehensions"
   ]
  },
  {
   "cell_type": "code",
   "execution_count": 43,
   "metadata": {},
   "outputs": [
    {
     "name": "stdout",
     "output_type": "stream",
     "text": [
      "['h', 'e', 'l', 'l', 'o']\n"
     ]
    }
   ],
   "source": [
    "string = \"hello\"\n",
    "\n",
    "mylist = list(string)\n",
    "print(mylist)"
   ]
  },
  {
   "cell_type": "code",
   "execution_count": 44,
   "metadata": {},
   "outputs": [],
   "source": [
    "mylist = [elem+'1' for elem in mylist]"
   ]
  },
  {
   "cell_type": "code",
   "execution_count": 45,
   "metadata": {},
   "outputs": [
    {
     "data": {
      "text/plain": [
       "['h1', 'e1', 'l1', 'l1', 'o1']"
      ]
     },
     "execution_count": 45,
     "metadata": {},
     "output_type": "execute_result"
    }
   ],
   "source": [
    "mylist"
   ]
  },
  {
   "cell_type": "code",
   "execution_count": 51,
   "metadata": {},
   "outputs": [
    {
     "name": "stdout",
     "output_type": "stream",
     "text": [
      "[0, 'ODD', 2, 'ODD', 4, 'ODD', 6, 'ODD', 8, 'ODD']\n",
      "[32.0, 50.0, 68.0, 86.0]\n",
      "[0, 2, 4, 6, 8]\n"
     ]
    }
   ],
   "source": [
    "mylist = [num **2 for num in range(0,10)]\n",
    "\n",
    "mylist = [x for x in range(0, 10) if x%2==0]\n",
    "\n",
    "celcius = [0,10,20,30]\n",
    "\n",
    "farenheit = [((9/5) * temp)+32 for temp in celcius]\n",
    "\n",
    "\n",
    "## if else order change s\n",
    "\n",
    "results = [x if x%2==0 else 'ODD' for x in range (0,10)]\n",
    "print(results)\n",
    "print(farenheit)\n",
    "print(mylist)"
   ]
  },
  {
   "cell_type": "code",
   "execution_count": 54,
   "metadata": {},
   "outputs": [
    {
     "name": "stdout",
     "output_type": "stream",
     "text": [
      "[20, 40, 60, 30, 60, 90, 40, 80, 120]\n"
     ]
    }
   ],
   "source": [
    "##nested loops in list comprehensions \n",
    "\n",
    "mylist = [x*y for x in [2,3,4] for y in [10,20,30]]\n",
    "print(mylist)"
   ]
  }
 ],
 "metadata": {
  "kernelspec": {
   "display_name": "Python 3",
   "language": "python",
   "name": "python3"
  },
  "language_info": {
   "codemirror_mode": {
    "name": "ipython",
    "version": 3
   },
   "file_extension": ".py",
   "mimetype": "text/x-python",
   "name": "python",
   "nbconvert_exporter": "python",
   "pygments_lexer": "ipython3",
   "version": "3.10.13"
  }
 },
 "nbformat": 4,
 "nbformat_minor": 2
}
